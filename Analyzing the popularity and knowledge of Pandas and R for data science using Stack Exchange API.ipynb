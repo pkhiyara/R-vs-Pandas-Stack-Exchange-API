{
 "cells": [
  {
   "cell_type": "code",
   "execution_count": 31,
   "metadata": {},
   "outputs": [],
   "source": [
    "# Import relevant packages\n",
    "import pandas as pd\n",
    "import numpy as np\n",
    "import requests\n",
    "import re\n",
    "import datetime as dt\n",
    "from pandas.io.json import json_normalize\n",
    "import matplotlib.pyplot as plt\n",
    "import json"
   ]
  },
  {
   "cell_type": "code",
   "execution_count": 32,
   "metadata": {},
   "outputs": [],
   "source": [
    "# GET HTTP Requests for questions tagged as R and Pandas across the Stack Overflow subcommunity sorted by popularity\n",
    "stackR = requests.get(\"https://api.stackexchange.com/2.2/tags/r/info?order=desc&sort=popular&site=stackoverflow\")\n",
    "stackP = requests.get(\"https://api.stackexchange.com/2.2/tags/pandas/info?order=desc&sort=popular&site=stackoverflow\")"
   ]
  },
  {
   "cell_type": "code",
   "execution_count": 33,
   "metadata": {},
   "outputs": [],
   "source": [
    "# GET HTTP Requests for questions tagged as R and Pandas across the Cross Validated subcommunity sorted by popularity\n",
    "crossR = requests.get(\"https://api.stackexchange.com/2.2/tags/r/info?order=desc&sort=popular&site=stats\")\n",
    "crossP = requests.get(\"https://api.stackexchange.com/2.2/tags/pandas/info?order=desc&sort=popular&site=stats\")"
   ]
  },
  {
   "cell_type": "code",
   "execution_count": 34,
   "metadata": {},
   "outputs": [],
   "source": [
    "# GET HTTP Requests for questions tagged as R and Pandas across the Data Science subcommunity sorted by popularity\n",
    "dataR = requests.get(\"https://api.stackexchange.com/2.2/tags/r/info?order=desc&sort=popular&site=datascience\")\n",
    "dataP = requests.get(\"https://api.stackexchange.com/2.2/tags/pandas/info?order=desc&sort=popular&site=datascience\")"
   ]
  },
  {
   "cell_type": "code",
   "execution_count": 35,
   "metadata": {},
   "outputs": [
    {
     "data": {
      "text/plain": [
       "{'items': [{'has_synonyms': True,\n",
       "   'is_moderator_only': False,\n",
       "   'is_required': False,\n",
       "   'count': 320568,\n",
       "   'name': 'r'}],\n",
       " 'has_more': False,\n",
       " 'quota_max': 300,\n",
       " 'quota_remaining': 293}"
      ]
     },
     "execution_count": 35,
     "metadata": {},
     "output_type": "execute_result"
    }
   ],
   "source": [
    "# Converting the results of the HTTP requests into JSON objects\n",
    "stackRjson = stackR.json()\n",
    "stackPjson = stackP.json()\n",
    "crossRjson = crossR.json()\n",
    "crossPjson = crossP.json()\n",
    "dataRjson = dataR.json()\n",
    "dataPjson = dataP.json()\n",
    "stackRjson"
   ]
  },
  {
   "cell_type": "code",
   "execution_count": 36,
   "metadata": {},
   "outputs": [],
   "source": [
    "# Normalize the JSON objects into individual dataframes\n",
    "stackRdf = json_normalize(stackRjson[\"items\"])\n",
    "stackRcount = stackRdf[\"count\"][0]\n",
    "stackPdf = json_normalize(stackPjson[\"items\"])\n",
    "stackPcount = stackPdf[\"count\"][0]\n",
    "crossRdf = json_normalize(crossRjson[\"items\"])\n",
    "crossRcount = crossRdf[\"count\"][0]\n",
    "crossPdf = json_normalize(crossPjson[\"items\"])\n",
    "crossPcount = crossPdf[\"count\"][0]\n",
    "dataRdf = json_normalize(dataRjson[\"items\"])\n",
    "dataRcount = dataRdf[\"count\"][0]\n",
    "dataPdf = json_normalize(dataPjson[\"items\"])\n",
    "dataPcount = dataPdf[\"count\"][0]"
   ]
  },
  {
   "cell_type": "code",
   "execution_count": 37,
   "metadata": {},
   "outputs": [
    {
     "data": {
      "text/html": [
       "<div>\n",
       "<style scoped>\n",
       "    .dataframe tbody tr th:only-of-type {\n",
       "        vertical-align: middle;\n",
       "    }\n",
       "\n",
       "    .dataframe tbody tr th {\n",
       "        vertical-align: top;\n",
       "    }\n",
       "\n",
       "    .dataframe thead th {\n",
       "        text-align: right;\n",
       "    }\n",
       "</style>\n",
       "<table border=\"1\" class=\"dataframe\">\n",
       "  <thead>\n",
       "    <tr style=\"text-align: right;\">\n",
       "      <th></th>\n",
       "      <th>Subcommunity</th>\n",
       "      <th>Number of Questions Tagged as R</th>\n",
       "      <th>Number of Questions Tagged as Pandas</th>\n",
       "    </tr>\n",
       "  </thead>\n",
       "  <tbody>\n",
       "    <tr>\n",
       "      <th>0</th>\n",
       "      <td>Stack Overflow</td>\n",
       "      <td>320568</td>\n",
       "      <td>130807</td>\n",
       "    </tr>\n",
       "    <tr>\n",
       "      <th>1</th>\n",
       "      <td>Cross Validated</td>\n",
       "      <td>21183</td>\n",
       "      <td>102</td>\n",
       "    </tr>\n",
       "    <tr>\n",
       "      <th>2</th>\n",
       "      <td>Data Science</td>\n",
       "      <td>1100</td>\n",
       "      <td>722</td>\n",
       "    </tr>\n",
       "    <tr>\n",
       "      <th>3</th>\n",
       "      <td>All</td>\n",
       "      <td>342851</td>\n",
       "      <td>131631</td>\n",
       "    </tr>\n",
       "  </tbody>\n",
       "</table>\n",
       "</div>"
      ],
      "text/plain": [
       "      Subcommunity  Number of Questions Tagged as R  \\\n",
       "0   Stack Overflow                           320568   \n",
       "1  Cross Validated                            21183   \n",
       "2     Data Science                             1100   \n",
       "3              All                           342851   \n",
       "\n",
       "   Number of Questions Tagged as Pandas  \n",
       "0                                130807  \n",
       "1                                   102  \n",
       "2                                   722  \n",
       "3                                131631  "
      ]
     },
     "execution_count": 37,
     "metadata": {},
     "output_type": "execute_result"
    }
   ],
   "source": [
    "# Creating a summary dataframe that combines the number of tags for both data science tools across each of the three stack exchange subcommunities  \n",
    "summarydf = pd.DataFrame({'Subcommunity': [\"Stack Overflow\", \"Cross Validated\", \"Data Science\", \"All\"], 'Number of Questions Tagged as R': [stackRcount, crossRcount, dataRcount, stackRcount+crossRcount+dataRcount], 'Number of Questions Tagged as Pandas': [stackPcount, crossPcount, dataPcount, stackPcount+crossPcount+dataPcount]})\n",
    "summarydf"
   ]
  },
  {
   "cell_type": "code",
   "execution_count": 38,
   "metadata": {},
   "outputs": [
    {
     "data": {
      "image/png": "[encoded data removed]",
      "text/plain": [
       "<Figure size 720x432 with 1 Axes>"
      ]
     },
     "metadata": {
      "needs_background": "light"
     },
     "output_type": "display_data"
    }
   ],
   "source": [
    "n_groups = 4\n",
    "vals1 = summarydf[\"Number of Questions Tagged as R\"]\n",
    "vals2 = summarydf[\"Number of Questions Tagged as Pandas\"]\n",
    "\n",
    "# Create Barplot\n",
    "fig, ax = plt.subplots()\n",
    "index = np.arange(n_groups)\n",
    "bar_width = 0.35\n",
    "opacity = 0.8\n",
    "\n",
    "rect1 = plt.bar(index, vals1, bar_width, alpha=opacity, color='b', label='R')\n",
    "\n",
    "rect2 = plt.bar(index + bar_width, vals2, bar_width, alpha=opacity, color='g', label='Pandas')\n",
    "\n",
    "plt.xlabel('Stack Exchange Subcommunities')\n",
    "plt.ylabel('Number of Questions Tagged')\n",
    "plt.title('Number of Questions Tagged by Data Science Tool based on Subcommunity')\n",
    "plt.xticks(index + bar_width, ('Stack Overflow', 'Cross Validated', 'Data Science', 'All'))\n",
    "plt.legend(loc='upper right', bbox_to_anchor=(1.25,1), title=\"Data Science Tool\")\n",
    "plt.rcParams[\"figure.figsize\"] = [10, 6]\n",
    "plt.tight_layout()\n",
    "plt.show()"
   ]
  },
  {
   "cell_type": "markdown",
   "metadata": {},
   "source": [
    "<b>Analysis</b>\n",
    "\n",
    "Based on the graph above and the dataframe's data, it is cleas that R is the more popular data science tool over Pandas across all subcommunities (Stack Overflow, Cross Validated, and Data Science). The stack overlow community had the greatest number of tags regarding the data science tool however, this was expected since this community is the gneral community for all questions on Stack Exchange. Additionally, R's popularity in the Cross Validated community based on its number of tags also presents the fact that it is a tool generally used for statistics."
   ]
  },
  {
   "cell_type": "markdown",
   "metadata": {},
   "source": [
    "<b>Conclusion</b>\n",
    "\n",
    "In conclusion, it can be observed that R is the more popular data science tool across all communitiies and as such, it is the most widely used tool in the data science community. Hence, if a person were to enter this industry professionally, they would be require to posses skills and knowledge in R as a necessity over Pandas.\n",
    "\n",
    "<b>Limitations</b>\n",
    "\n",
    "Based on research performed by third parties, Python is consistently more popular than R as a data science tool however our conclusions specifically focused on a single package of Python and its comparison to R's overall popularity. As such, a limitation exists in the fact that we are comparing Pandas, a specific package for the Python language, against R which is an entire language in-and-of itself. Hence, R would have been expected to have more tags over Pandas. Therefore, our conclusions are not entirely comparable to the outside research performed however it is interesting to note that as a whole, the most popular data manipulation tool used in Python is less popular than R among data science communities despite the overwhelming dominance of Python in such communities. Based on our data, it was clear to see the divide between R and Pandas tags was the least in the data science community which could be due to this reason as well.\n",
    "\n",
    "Furthermore, a better method of comparing the two tools would consist of comparing the tags of both languages against each other instead of analysing the mentions of a package against a language. Additionally, another limitation of this study is that we purely looked into the number of tags used for questions to determine the popularity of the data science tool in each community and did not pay attention to the number of answers provided to the questions. Therefore, even if the tool is mentioned more and has a greater level of popularity, this does not necessarily mean that the community has greater knowledge of the tool. As such, focusing on the number of answers instead of the number of tags for each language would be a better method of evaluating the popularity and knowledge of a data science tool within multiple communities. "
   ]
  },
  {
   "cell_type": "markdown",
   "metadata": {},
   "source": [
    "<b>Data Source Citation and Explanation</b>\n",
    "\n",
    "For this project, I accessed all my data through an HTTP GET request that extracted information regarding tagged questions directly from Stack Exchange through their API. The data collected included information regarding the specific tags I was examining and the subcommunity I was attempting to collect information regarding. The data also included information regarding whether the subcommunity was moderated however, the most important information collected from the API consisted of the count of questions within a subcommunity that used the tag being examined.\n",
    "\n",
    "<b>Citations</b>\n",
    "\n",
    "- Data-Driven Science. “Python vs R for Data Science: And the Winner Is..” Medium, Medium, 31 Jan. 2018, https://medium.com/@data_driven/python-vs-r-for-data-science-and-the-winner-is-3ebb1a968197.Theuwissen, \n",
    "- Martijn. “R Vs Python for Data Science: The Winner Is ...” KDnuggets, https://www.kdnuggets.com/2015/05/r-vs-python-data-science.html.\n",
    "- “Stack Exchange API.” Stack Exchange API, https://api.stackexchange.com/."
   ]
  }
 ],
 "metadata": {
  "kernelspec": {
   "display_name": "Python 3",
   "language": "python",
   "name": "python3"
  },
  "language_info": {
   "codemirror_mode": {
    "name": "ipython",
    "version": 3
   },
   "file_extension": ".py",
   "mimetype": "text/x-python",
   "name": "python",
   "nbconvert_exporter": "python",
   "pygments_lexer": "ipython3",
   "version": "3.7.1"
  }
 },
 "nbformat": 4,
 "nbformat_minor": 2
}
